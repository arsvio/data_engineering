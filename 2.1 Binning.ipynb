{
 "cells": [
  {
   "cell_type": "markdown",
   "metadata": {},
   "source": [
    "# Fix width binning (Equal Interval Width)\n",
    "\n",
    "\n",
    "Raw counts that span several orders of magnitude are problematic for many models. One solution is to contain the scale by quantizing the count. In other words, we group the counts into bins, and get rid of the actual count values. Quantization maps a continuous number to a discrete one. We can think of the discretized numbers as an ordered sequence of bins that represent a measure of intensity."
   ]
  },
  {
   "cell_type": "code",
   "execution_count": 1,
   "metadata": {},
   "outputs": [],
   "source": [
    "import numpy as np\n"
   ]
  },
  {
   "cell_type": "code",
   "execution_count": 2,
   "metadata": {},
   "outputs": [
    {
     "data": {
      "text/plain": [
       "array([79, 38, 98, 20,  8, 10, 95, 71, 62, 29, 71, 62, 55, 93, 21, 63, 56,\n",
       "        7, 22, 93])"
      ]
     },
     "execution_count": 2,
     "metadata": {},
     "output_type": "execute_result"
    }
   ],
   "source": [
    "small_counts = np.random.randint(0, 100, 20)\n",
    "small_counts"
   ]
  },
  {
   "cell_type": "code",
   "execution_count": 3,
   "metadata": {},
   "outputs": [
    {
     "data": {
      "text/plain": [
       "array([7, 3, 9, 2, 0, 1, 9, 7, 6, 2, 7, 6, 5, 9, 2, 6, 5, 0, 2, 9])"
      ]
     },
     "execution_count": 3,
     "metadata": {},
     "output_type": "execute_result"
    }
   ],
   "source": [
    "# Map to evenly spaced bins 0-9 by division\n",
    "np.floor_divide(small_counts, 10)"
   ]
  },
  {
   "cell_type": "markdown",
   "metadata": {},
   "source": [
    "It means there are 10 groups ranged from 0 to 9. The number resulted from the `np.floor_divide` means the number of its group. "
   ]
  },
  {
   "cell_type": "code",
   "execution_count": 4,
   "metadata": {},
   "outputs": [],
   "source": [
    "large_counts = [296, 8286, 64011, 80, 3, 725, 867, 2215, 7689, 11495, 91897, 44, 28, 7971, 926, 122, 22222]"
   ]
  },
  {
   "cell_type": "code",
   "execution_count": 5,
   "metadata": {},
   "outputs": [
    {
     "data": {
      "text/plain": [
       "array([2., 3., 4., 1., 0., 2., 2., 3., 3., 4., 4., 1., 1., 3., 2., 2., 4.])"
      ]
     },
     "execution_count": 5,
     "metadata": {},
     "output_type": "execute_result"
    }
   ],
   "source": [
    "# Map to exponential-width bins via the log function\n",
    "np.floor(np.log10(large_counts))"
   ]
  },
  {
   "cell_type": "markdown",
   "metadata": {},
   "source": [
    "# Quantile binning"
   ]
  },
  {
   "cell_type": "markdown",
   "metadata": {},
   "source": [
    "Fixed-width binning is easy to compute. But if there are large gaps in the counts, then there will be many empty bins with no data. This problem can be solved by adaptively positioning the bins based on the distribution of the data. This can be done using the quantiles of the distribution."
   ]
  },
  {
   "cell_type": "code",
   "execution_count": 6,
   "metadata": {},
   "outputs": [],
   "source": [
    "import pandas as pd\n",
    "import json"
   ]
  },
  {
   "cell_type": "code",
   "execution_count": 7,
   "metadata": {},
   "outputs": [],
   "source": [
    "# Load the data about businesses\n",
    "biz_file = open('/Users/22statistika_04/Library/Mobile Documents/com~apple~CloudDocs/Documents/Subjects/Data Engineering/Data/yelp_academic_dataset_business.json')\n",
    "biz_df = pd.DataFrame([json.loads(x) for x in biz_file.readlines()])\n",
    "biz_file.close()"
   ]
  },
  {
   "cell_type": "code",
   "execution_count": 16,
   "metadata": {},
   "outputs": [
    {
     "data": {
      "text/html": [
       "<div>\n",
       "<style scoped>\n",
       "    .dataframe tbody tr th:only-of-type {\n",
       "        vertical-align: middle;\n",
       "    }\n",
       "\n",
       "    .dataframe tbody tr th {\n",
       "        vertical-align: top;\n",
       "    }\n",
       "\n",
       "    .dataframe thead th {\n",
       "        text-align: right;\n",
       "    }\n",
       "</style>\n",
       "<table border=\"1\" class=\"dataframe\">\n",
       "  <thead>\n",
       "    <tr style=\"text-align: right;\">\n",
       "      <th></th>\n",
       "      <th>business_id</th>\n",
       "      <th>name</th>\n",
       "      <th>address</th>\n",
       "      <th>city</th>\n",
       "      <th>state</th>\n",
       "      <th>postal_code</th>\n",
       "      <th>latitude</th>\n",
       "      <th>longitude</th>\n",
       "      <th>stars</th>\n",
       "      <th>review_count</th>\n",
       "      <th>is_open</th>\n",
       "      <th>attributes</th>\n",
       "      <th>categories</th>\n",
       "      <th>hours</th>\n",
       "    </tr>\n",
       "  </thead>\n",
       "  <tbody>\n",
       "    <tr>\n",
       "      <th>0</th>\n",
       "      <td>Pns2l4eNsfO8kk83dixA6A</td>\n",
       "      <td>Abby Rappoport, LAC, CMQ</td>\n",
       "      <td>1616 Chapala St, Ste 2</td>\n",
       "      <td>Santa Barbara</td>\n",
       "      <td>CA</td>\n",
       "      <td>93101</td>\n",
       "      <td>34.426679</td>\n",
       "      <td>-119.711197</td>\n",
       "      <td>5.0</td>\n",
       "      <td>7</td>\n",
       "      <td>0</td>\n",
       "      <td>{'ByAppointmentOnly': 'True'}</td>\n",
       "      <td>Doctors, Traditional Chinese Medicine, Naturop...</td>\n",
       "      <td>None</td>\n",
       "    </tr>\n",
       "    <tr>\n",
       "      <th>1</th>\n",
       "      <td>mpf3x-BjTdTEA3yCZrAYPw</td>\n",
       "      <td>The UPS Store</td>\n",
       "      <td>87 Grasso Plaza Shopping Center</td>\n",
       "      <td>Affton</td>\n",
       "      <td>MO</td>\n",
       "      <td>63123</td>\n",
       "      <td>38.551126</td>\n",
       "      <td>-90.335695</td>\n",
       "      <td>3.0</td>\n",
       "      <td>15</td>\n",
       "      <td>1</td>\n",
       "      <td>{'BusinessAcceptsCreditCards': 'True'}</td>\n",
       "      <td>Shipping Centers, Local Services, Notaries, Ma...</td>\n",
       "      <td>{'Monday': '0:0-0:0', 'Tuesday': '8:0-18:30', ...</td>\n",
       "    </tr>\n",
       "    <tr>\n",
       "      <th>2</th>\n",
       "      <td>tUFrWirKiKi_TAnsVWINQQ</td>\n",
       "      <td>Target</td>\n",
       "      <td>5255 E Broadway Blvd</td>\n",
       "      <td>Tucson</td>\n",
       "      <td>AZ</td>\n",
       "      <td>85711</td>\n",
       "      <td>32.223236</td>\n",
       "      <td>-110.880452</td>\n",
       "      <td>3.5</td>\n",
       "      <td>22</td>\n",
       "      <td>0</td>\n",
       "      <td>{'BikeParking': 'True', 'BusinessAcceptsCredit...</td>\n",
       "      <td>Department Stores, Shopping, Fashion, Home &amp; G...</td>\n",
       "      <td>{'Monday': '8:0-22:0', 'Tuesday': '8:0-22:0', ...</td>\n",
       "    </tr>\n",
       "    <tr>\n",
       "      <th>3</th>\n",
       "      <td>MTSW4McQd7CbVtyjqoe9mw</td>\n",
       "      <td>St Honore Pastries</td>\n",
       "      <td>935 Race St</td>\n",
       "      <td>Philadelphia</td>\n",
       "      <td>PA</td>\n",
       "      <td>19107</td>\n",
       "      <td>39.955505</td>\n",
       "      <td>-75.155564</td>\n",
       "      <td>4.0</td>\n",
       "      <td>80</td>\n",
       "      <td>1</td>\n",
       "      <td>{'RestaurantsDelivery': 'False', 'OutdoorSeati...</td>\n",
       "      <td>Restaurants, Food, Bubble Tea, Coffee &amp; Tea, B...</td>\n",
       "      <td>{'Monday': '7:0-20:0', 'Tuesday': '7:0-20:0', ...</td>\n",
       "    </tr>\n",
       "    <tr>\n",
       "      <th>4</th>\n",
       "      <td>mWMc6_wTdE0EUBKIGXDVfA</td>\n",
       "      <td>Perkiomen Valley Brewery</td>\n",
       "      <td>101 Walnut St</td>\n",
       "      <td>Green Lane</td>\n",
       "      <td>PA</td>\n",
       "      <td>18054</td>\n",
       "      <td>40.338183</td>\n",
       "      <td>-75.471659</td>\n",
       "      <td>4.5</td>\n",
       "      <td>13</td>\n",
       "      <td>1</td>\n",
       "      <td>{'BusinessAcceptsCreditCards': 'True', 'Wheelc...</td>\n",
       "      <td>Brewpubs, Breweries, Food</td>\n",
       "      <td>{'Wednesday': '14:0-22:0', 'Thursday': '16:0-2...</td>\n",
       "    </tr>\n",
       "    <tr>\n",
       "      <th>5</th>\n",
       "      <td>CF33F8-E6oudUQ46HnavjQ</td>\n",
       "      <td>Sonic Drive-In</td>\n",
       "      <td>615 S Main St</td>\n",
       "      <td>Ashland City</td>\n",
       "      <td>TN</td>\n",
       "      <td>37015</td>\n",
       "      <td>36.269593</td>\n",
       "      <td>-87.058943</td>\n",
       "      <td>2.0</td>\n",
       "      <td>6</td>\n",
       "      <td>1</td>\n",
       "      <td>{'BusinessParking': 'None', 'BusinessAcceptsCr...</td>\n",
       "      <td>Burgers, Fast Food, Sandwiches, Food, Ice Crea...</td>\n",
       "      <td>{'Monday': '0:0-0:0', 'Tuesday': '6:0-22:0', '...</td>\n",
       "    </tr>\n",
       "    <tr>\n",
       "      <th>6</th>\n",
       "      <td>n_0UpQx1hsNbnPUSlodU8w</td>\n",
       "      <td>Famous Footwear</td>\n",
       "      <td>8522 Eager Road, Dierbergs Brentwood Point</td>\n",
       "      <td>Brentwood</td>\n",
       "      <td>MO</td>\n",
       "      <td>63144</td>\n",
       "      <td>38.627695</td>\n",
       "      <td>-90.340465</td>\n",
       "      <td>2.5</td>\n",
       "      <td>13</td>\n",
       "      <td>1</td>\n",
       "      <td>{'BusinessAcceptsCreditCards': 'True', 'Restau...</td>\n",
       "      <td>Sporting Goods, Fashion, Shoe Stores, Shopping...</td>\n",
       "      <td>{'Monday': '0:0-0:0', 'Tuesday': '10:0-18:0', ...</td>\n",
       "    </tr>\n",
       "    <tr>\n",
       "      <th>7</th>\n",
       "      <td>qkRM_2X51Yqxk3btlwAQIg</td>\n",
       "      <td>Temple Beth-El</td>\n",
       "      <td>400 Pasadena Ave S</td>\n",
       "      <td>St. Petersburg</td>\n",
       "      <td>FL</td>\n",
       "      <td>33707</td>\n",
       "      <td>27.766590</td>\n",
       "      <td>-82.732983</td>\n",
       "      <td>3.5</td>\n",
       "      <td>5</td>\n",
       "      <td>1</td>\n",
       "      <td>None</td>\n",
       "      <td>Synagogues, Religious Organizations</td>\n",
       "      <td>{'Monday': '9:0-17:0', 'Tuesday': '9:0-17:0', ...</td>\n",
       "    </tr>\n",
       "    <tr>\n",
       "      <th>8</th>\n",
       "      <td>k0hlBqXX-Bt0vf1op7Jr1w</td>\n",
       "      <td>Tsevi's Pub And Grill</td>\n",
       "      <td>8025 Mackenzie Rd</td>\n",
       "      <td>Affton</td>\n",
       "      <td>MO</td>\n",
       "      <td>63123</td>\n",
       "      <td>38.565165</td>\n",
       "      <td>-90.321087</td>\n",
       "      <td>3.0</td>\n",
       "      <td>19</td>\n",
       "      <td>0</td>\n",
       "      <td>{'Caters': 'True', 'Alcohol': 'u'full_bar'', '...</td>\n",
       "      <td>Pubs, Restaurants, Italian, Bars, American (Tr...</td>\n",
       "      <td>None</td>\n",
       "    </tr>\n",
       "    <tr>\n",
       "      <th>9</th>\n",
       "      <td>bBDDEgkFA1Otx9Lfe7BZUQ</td>\n",
       "      <td>Sonic Drive-In</td>\n",
       "      <td>2312 Dickerson Pike</td>\n",
       "      <td>Nashville</td>\n",
       "      <td>TN</td>\n",
       "      <td>37207</td>\n",
       "      <td>36.208102</td>\n",
       "      <td>-86.768170</td>\n",
       "      <td>1.5</td>\n",
       "      <td>10</td>\n",
       "      <td>1</td>\n",
       "      <td>{'RestaurantsAttire': ''casual'', 'Restaurants...</td>\n",
       "      <td>Ice Cream &amp; Frozen Yogurt, Fast Food, Burgers,...</td>\n",
       "      <td>{'Monday': '0:0-0:0', 'Tuesday': '6:0-21:0', '...</td>\n",
       "    </tr>\n",
       "    <tr>\n",
       "      <th>10</th>\n",
       "      <td>UJsufbvfyfONHeWdvAHKjA</td>\n",
       "      <td>Marshalls</td>\n",
       "      <td>21705 Village Lakes Sc Dr</td>\n",
       "      <td>Land O' Lakes</td>\n",
       "      <td>FL</td>\n",
       "      <td>34639</td>\n",
       "      <td>28.190459</td>\n",
       "      <td>-82.457380</td>\n",
       "      <td>3.5</td>\n",
       "      <td>6</td>\n",
       "      <td>1</td>\n",
       "      <td>{'RestaurantsPriceRange2': '2', 'BikeParking':...</td>\n",
       "      <td>Department Stores, Shopping, Fashion</td>\n",
       "      <td>{'Monday': '9:30-21:30', 'Tuesday': '9:30-21:3...</td>\n",
       "    </tr>\n",
       "    <tr>\n",
       "      <th>11</th>\n",
       "      <td>eEOYSgkmpB90uNA7lDOMRA</td>\n",
       "      <td>Vietnamese Food Truck</td>\n",
       "      <td></td>\n",
       "      <td>Tampa Bay</td>\n",
       "      <td>FL</td>\n",
       "      <td>33602</td>\n",
       "      <td>27.955269</td>\n",
       "      <td>-82.456320</td>\n",
       "      <td>4.0</td>\n",
       "      <td>10</td>\n",
       "      <td>1</td>\n",
       "      <td>{'Alcohol': ''none'', 'OutdoorSeating': 'None'...</td>\n",
       "      <td>Vietnamese, Food, Restaurants, Food Trucks</td>\n",
       "      <td>{'Monday': '11:0-14:0', 'Tuesday': '11:0-14:0'...</td>\n",
       "    </tr>\n",
       "    <tr>\n",
       "      <th>12</th>\n",
       "      <td>il_Ro8jwPlHresjw9EGmBg</td>\n",
       "      <td>Denny's</td>\n",
       "      <td>8901 US 31 S</td>\n",
       "      <td>Indianapolis</td>\n",
       "      <td>IN</td>\n",
       "      <td>46227</td>\n",
       "      <td>39.637133</td>\n",
       "      <td>-86.127217</td>\n",
       "      <td>2.5</td>\n",
       "      <td>28</td>\n",
       "      <td>1</td>\n",
       "      <td>{'RestaurantsReservations': 'False', 'Restaura...</td>\n",
       "      <td>American (Traditional), Restaurants, Diners, B...</td>\n",
       "      <td>{'Monday': '6:0-22:0', 'Tuesday': '6:0-22:0', ...</td>\n",
       "    </tr>\n",
       "    <tr>\n",
       "      <th>13</th>\n",
       "      <td>jaxMSoInw8Poo3XeMJt8lQ</td>\n",
       "      <td>Adams Dental</td>\n",
       "      <td>15 N Missouri Ave</td>\n",
       "      <td>Clearwater</td>\n",
       "      <td>FL</td>\n",
       "      <td>33755</td>\n",
       "      <td>27.966235</td>\n",
       "      <td>-82.787412</td>\n",
       "      <td>5.0</td>\n",
       "      <td>10</td>\n",
       "      <td>1</td>\n",
       "      <td>{'ByAppointmentOnly': 'True'}</td>\n",
       "      <td>General Dentistry, Dentists, Health &amp; Medical,...</td>\n",
       "      <td>{'Monday': '7:30-15:30', 'Tuesday': '7:30-15:3...</td>\n",
       "    </tr>\n",
       "    <tr>\n",
       "      <th>14</th>\n",
       "      <td>0bPLkL0QhhPO5kt1_EXmNQ</td>\n",
       "      <td>Zio's Italian Market</td>\n",
       "      <td>2575 E Bay Dr</td>\n",
       "      <td>Largo</td>\n",
       "      <td>FL</td>\n",
       "      <td>33771</td>\n",
       "      <td>27.916116</td>\n",
       "      <td>-82.760461</td>\n",
       "      <td>4.5</td>\n",
       "      <td>100</td>\n",
       "      <td>0</td>\n",
       "      <td>{'OutdoorSeating': 'False', 'RestaurantsGoodFo...</td>\n",
       "      <td>Food, Delis, Italian, Bakeries, Restaurants</td>\n",
       "      <td>{'Monday': '10:0-18:0', 'Tuesday': '10:0-20:0'...</td>\n",
       "    </tr>\n",
       "    <tr>\n",
       "      <th>15</th>\n",
       "      <td>MUTTqe8uqyMdBl186RmNeA</td>\n",
       "      <td>Tuna Bar</td>\n",
       "      <td>205 Race St</td>\n",
       "      <td>Philadelphia</td>\n",
       "      <td>PA</td>\n",
       "      <td>19106</td>\n",
       "      <td>39.953949</td>\n",
       "      <td>-75.143226</td>\n",
       "      <td>4.0</td>\n",
       "      <td>245</td>\n",
       "      <td>1</td>\n",
       "      <td>{'RestaurantsReservations': 'True', 'Restauran...</td>\n",
       "      <td>Sushi Bars, Restaurants, Japanese</td>\n",
       "      <td>{'Tuesday': '13:30-22:0', 'Wednesday': '13:30-...</td>\n",
       "    </tr>\n",
       "    <tr>\n",
       "      <th>16</th>\n",
       "      <td>rBmpy_Y1UbBx8ggHlyb7hA</td>\n",
       "      <td>Arizona Truck Outfitters</td>\n",
       "      <td>625 N Stone Ave</td>\n",
       "      <td>Tucson</td>\n",
       "      <td>AZ</td>\n",
       "      <td>85705</td>\n",
       "      <td>32.229872</td>\n",
       "      <td>-110.972342</td>\n",
       "      <td>4.5</td>\n",
       "      <td>10</td>\n",
       "      <td>1</td>\n",
       "      <td>{'DriveThru': 'False', 'BusinessAcceptsCreditC...</td>\n",
       "      <td>Automotive, Auto Parts &amp; Supplies, Auto Custom...</td>\n",
       "      <td>{'Monday': '0:0-0:0', 'Tuesday': '8:0-17:0', '...</td>\n",
       "    </tr>\n",
       "    <tr>\n",
       "      <th>17</th>\n",
       "      <td>M0XSSHqrASOnhgbWDJIpQA</td>\n",
       "      <td>Herb Import Co</td>\n",
       "      <td>712 Adams St</td>\n",
       "      <td>New Orleans</td>\n",
       "      <td>LA</td>\n",
       "      <td>70118</td>\n",
       "      <td>29.941468</td>\n",
       "      <td>-90.129953</td>\n",
       "      <td>4.0</td>\n",
       "      <td>5</td>\n",
       "      <td>1</td>\n",
       "      <td>{'BusinessParking': '{'garage': False, 'street...</td>\n",
       "      <td>Vape Shops, Tobacco Shops, Personal Shopping, ...</td>\n",
       "      <td>{'Monday': '10:0-19:0', 'Tuesday': '10:0-19:0'...</td>\n",
       "    </tr>\n",
       "    <tr>\n",
       "      <th>18</th>\n",
       "      <td>8wGISYjYkE2tSqn3cDMu8A</td>\n",
       "      <td>Nifty Car Rental</td>\n",
       "      <td>1241 Airline Dr</td>\n",
       "      <td>Kenner</td>\n",
       "      <td>LA</td>\n",
       "      <td>70062</td>\n",
       "      <td>29.981183</td>\n",
       "      <td>-90.254012</td>\n",
       "      <td>3.5</td>\n",
       "      <td>14</td>\n",
       "      <td>1</td>\n",
       "      <td>None</td>\n",
       "      <td>Automotive, Car Rental, Hotels &amp; Travel, Truck...</td>\n",
       "      <td>{'Monday': '8:0-17:0', 'Tuesday': '8:0-17:0', ...</td>\n",
       "    </tr>\n",
       "    <tr>\n",
       "      <th>19</th>\n",
       "      <td>ROeacJQwBeh05Rqg7F6TCg</td>\n",
       "      <td>BAP</td>\n",
       "      <td>1224 South St</td>\n",
       "      <td>Philadelphia</td>\n",
       "      <td>PA</td>\n",
       "      <td>19147</td>\n",
       "      <td>39.943223</td>\n",
       "      <td>-75.162568</td>\n",
       "      <td>4.5</td>\n",
       "      <td>205</td>\n",
       "      <td>1</td>\n",
       "      <td>{'NoiseLevel': 'u'quiet'', 'GoodForMeal': '{'d...</td>\n",
       "      <td>Korean, Restaurants</td>\n",
       "      <td>{'Monday': '11:30-20:30', 'Tuesday': '11:30-20...</td>\n",
       "    </tr>\n",
       "  </tbody>\n",
       "</table>\n",
       "</div>"
      ],
      "text/plain": [
       "               business_id                      name  \\\n",
       "0   Pns2l4eNsfO8kk83dixA6A  Abby Rappoport, LAC, CMQ   \n",
       "1   mpf3x-BjTdTEA3yCZrAYPw             The UPS Store   \n",
       "2   tUFrWirKiKi_TAnsVWINQQ                    Target   \n",
       "3   MTSW4McQd7CbVtyjqoe9mw        St Honore Pastries   \n",
       "4   mWMc6_wTdE0EUBKIGXDVfA  Perkiomen Valley Brewery   \n",
       "5   CF33F8-E6oudUQ46HnavjQ            Sonic Drive-In   \n",
       "6   n_0UpQx1hsNbnPUSlodU8w           Famous Footwear   \n",
       "7   qkRM_2X51Yqxk3btlwAQIg            Temple Beth-El   \n",
       "8   k0hlBqXX-Bt0vf1op7Jr1w     Tsevi's Pub And Grill   \n",
       "9   bBDDEgkFA1Otx9Lfe7BZUQ            Sonic Drive-In   \n",
       "10  UJsufbvfyfONHeWdvAHKjA                 Marshalls   \n",
       "11  eEOYSgkmpB90uNA7lDOMRA     Vietnamese Food Truck   \n",
       "12  il_Ro8jwPlHresjw9EGmBg                   Denny's   \n",
       "13  jaxMSoInw8Poo3XeMJt8lQ              Adams Dental   \n",
       "14  0bPLkL0QhhPO5kt1_EXmNQ      Zio's Italian Market   \n",
       "15  MUTTqe8uqyMdBl186RmNeA                  Tuna Bar   \n",
       "16  rBmpy_Y1UbBx8ggHlyb7hA  Arizona Truck Outfitters   \n",
       "17  M0XSSHqrASOnhgbWDJIpQA            Herb Import Co   \n",
       "18  8wGISYjYkE2tSqn3cDMu8A          Nifty Car Rental   \n",
       "19  ROeacJQwBeh05Rqg7F6TCg                       BAP   \n",
       "\n",
       "                                       address            city state  \\\n",
       "0                       1616 Chapala St, Ste 2   Santa Barbara    CA   \n",
       "1              87 Grasso Plaza Shopping Center          Affton    MO   \n",
       "2                         5255 E Broadway Blvd          Tucson    AZ   \n",
       "3                                  935 Race St    Philadelphia    PA   \n",
       "4                                101 Walnut St      Green Lane    PA   \n",
       "5                                615 S Main St    Ashland City    TN   \n",
       "6   8522 Eager Road, Dierbergs Brentwood Point       Brentwood    MO   \n",
       "7                           400 Pasadena Ave S  St. Petersburg    FL   \n",
       "8                            8025 Mackenzie Rd          Affton    MO   \n",
       "9                          2312 Dickerson Pike       Nashville    TN   \n",
       "10                   21705 Village Lakes Sc Dr   Land O' Lakes    FL   \n",
       "11                                                   Tampa Bay    FL   \n",
       "12                                8901 US 31 S    Indianapolis    IN   \n",
       "13                           15 N Missouri Ave      Clearwater    FL   \n",
       "14                               2575 E Bay Dr           Largo    FL   \n",
       "15                                 205 Race St    Philadelphia    PA   \n",
       "16                             625 N Stone Ave          Tucson    AZ   \n",
       "17                                712 Adams St     New Orleans    LA   \n",
       "18                             1241 Airline Dr          Kenner    LA   \n",
       "19                               1224 South St    Philadelphia    PA   \n",
       "\n",
       "   postal_code   latitude   longitude  stars  review_count  is_open  \\\n",
       "0        93101  34.426679 -119.711197    5.0             7        0   \n",
       "1        63123  38.551126  -90.335695    3.0            15        1   \n",
       "2        85711  32.223236 -110.880452    3.5            22        0   \n",
       "3        19107  39.955505  -75.155564    4.0            80        1   \n",
       "4        18054  40.338183  -75.471659    4.5            13        1   \n",
       "5        37015  36.269593  -87.058943    2.0             6        1   \n",
       "6        63144  38.627695  -90.340465    2.5            13        1   \n",
       "7        33707  27.766590  -82.732983    3.5             5        1   \n",
       "8        63123  38.565165  -90.321087    3.0            19        0   \n",
       "9        37207  36.208102  -86.768170    1.5            10        1   \n",
       "10       34639  28.190459  -82.457380    3.5             6        1   \n",
       "11       33602  27.955269  -82.456320    4.0            10        1   \n",
       "12       46227  39.637133  -86.127217    2.5            28        1   \n",
       "13       33755  27.966235  -82.787412    5.0            10        1   \n",
       "14       33771  27.916116  -82.760461    4.5           100        0   \n",
       "15       19106  39.953949  -75.143226    4.0           245        1   \n",
       "16       85705  32.229872 -110.972342    4.5            10        1   \n",
       "17       70118  29.941468  -90.129953    4.0             5        1   \n",
       "18       70062  29.981183  -90.254012    3.5            14        1   \n",
       "19       19147  39.943223  -75.162568    4.5           205        1   \n",
       "\n",
       "                                           attributes  \\\n",
       "0                       {'ByAppointmentOnly': 'True'}   \n",
       "1              {'BusinessAcceptsCreditCards': 'True'}   \n",
       "2   {'BikeParking': 'True', 'BusinessAcceptsCredit...   \n",
       "3   {'RestaurantsDelivery': 'False', 'OutdoorSeati...   \n",
       "4   {'BusinessAcceptsCreditCards': 'True', 'Wheelc...   \n",
       "5   {'BusinessParking': 'None', 'BusinessAcceptsCr...   \n",
       "6   {'BusinessAcceptsCreditCards': 'True', 'Restau...   \n",
       "7                                                None   \n",
       "8   {'Caters': 'True', 'Alcohol': 'u'full_bar'', '...   \n",
       "9   {'RestaurantsAttire': ''casual'', 'Restaurants...   \n",
       "10  {'RestaurantsPriceRange2': '2', 'BikeParking':...   \n",
       "11  {'Alcohol': ''none'', 'OutdoorSeating': 'None'...   \n",
       "12  {'RestaurantsReservations': 'False', 'Restaura...   \n",
       "13                      {'ByAppointmentOnly': 'True'}   \n",
       "14  {'OutdoorSeating': 'False', 'RestaurantsGoodFo...   \n",
       "15  {'RestaurantsReservations': 'True', 'Restauran...   \n",
       "16  {'DriveThru': 'False', 'BusinessAcceptsCreditC...   \n",
       "17  {'BusinessParking': '{'garage': False, 'street...   \n",
       "18                                               None   \n",
       "19  {'NoiseLevel': 'u'quiet'', 'GoodForMeal': '{'d...   \n",
       "\n",
       "                                           categories  \\\n",
       "0   Doctors, Traditional Chinese Medicine, Naturop...   \n",
       "1   Shipping Centers, Local Services, Notaries, Ma...   \n",
       "2   Department Stores, Shopping, Fashion, Home & G...   \n",
       "3   Restaurants, Food, Bubble Tea, Coffee & Tea, B...   \n",
       "4                           Brewpubs, Breweries, Food   \n",
       "5   Burgers, Fast Food, Sandwiches, Food, Ice Crea...   \n",
       "6   Sporting Goods, Fashion, Shoe Stores, Shopping...   \n",
       "7                 Synagogues, Religious Organizations   \n",
       "8   Pubs, Restaurants, Italian, Bars, American (Tr...   \n",
       "9   Ice Cream & Frozen Yogurt, Fast Food, Burgers,...   \n",
       "10               Department Stores, Shopping, Fashion   \n",
       "11         Vietnamese, Food, Restaurants, Food Trucks   \n",
       "12  American (Traditional), Restaurants, Diners, B...   \n",
       "13  General Dentistry, Dentists, Health & Medical,...   \n",
       "14        Food, Delis, Italian, Bakeries, Restaurants   \n",
       "15                  Sushi Bars, Restaurants, Japanese   \n",
       "16  Automotive, Auto Parts & Supplies, Auto Custom...   \n",
       "17  Vape Shops, Tobacco Shops, Personal Shopping, ...   \n",
       "18  Automotive, Car Rental, Hotels & Travel, Truck...   \n",
       "19                                Korean, Restaurants   \n",
       "\n",
       "                                                hours  \n",
       "0                                                None  \n",
       "1   {'Monday': '0:0-0:0', 'Tuesday': '8:0-18:30', ...  \n",
       "2   {'Monday': '8:0-22:0', 'Tuesday': '8:0-22:0', ...  \n",
       "3   {'Monday': '7:0-20:0', 'Tuesday': '7:0-20:0', ...  \n",
       "4   {'Wednesday': '14:0-22:0', 'Thursday': '16:0-2...  \n",
       "5   {'Monday': '0:0-0:0', 'Tuesday': '6:0-22:0', '...  \n",
       "6   {'Monday': '0:0-0:0', 'Tuesday': '10:0-18:0', ...  \n",
       "7   {'Monday': '9:0-17:0', 'Tuesday': '9:0-17:0', ...  \n",
       "8                                                None  \n",
       "9   {'Monday': '0:0-0:0', 'Tuesday': '6:0-21:0', '...  \n",
       "10  {'Monday': '9:30-21:30', 'Tuesday': '9:30-21:3...  \n",
       "11  {'Monday': '11:0-14:0', 'Tuesday': '11:0-14:0'...  \n",
       "12  {'Monday': '6:0-22:0', 'Tuesday': '6:0-22:0', ...  \n",
       "13  {'Monday': '7:30-15:30', 'Tuesday': '7:30-15:3...  \n",
       "14  {'Monday': '10:0-18:0', 'Tuesday': '10:0-20:0'...  \n",
       "15  {'Tuesday': '13:30-22:0', 'Wednesday': '13:30-...  \n",
       "16  {'Monday': '0:0-0:0', 'Tuesday': '8:0-17:0', '...  \n",
       "17  {'Monday': '10:0-19:0', 'Tuesday': '10:0-19:0'...  \n",
       "18  {'Monday': '8:0-17:0', 'Tuesday': '8:0-17:0', ...  \n",
       "19  {'Monday': '11:30-20:30', 'Tuesday': '11:30-20...  "
      ]
     },
     "execution_count": 16,
     "metadata": {},
     "output_type": "execute_result"
    }
   ],
   "source": [
    "biz_df.head(20)"
   ]
  },
  {
   "cell_type": "code",
   "execution_count": 9,
   "metadata": {},
   "outputs": [],
   "source": [
    "import matplotlib.pyplot as plt\n",
    "import seaborn as sns"
   ]
  },
  {
   "cell_type": "code",
   "execution_count": 20,
   "metadata": {},
   "outputs": [
    {
     "data": {
      "text/plain": [
       "Text(0, 0.5, 'Occurrence')"
      ]
     },
     "execution_count": 20,
     "metadata": {},
     "output_type": "execute_result"
    },
    {
     "data": {
      "image/png": "[encoded data removed]",
      "text/plain": [
       "<Figure size 640x480 with 1 Axes>"
      ]
     },
     "metadata": {},
     "output_type": "display_data"
    }
   ],
   "source": [
    "# Plot the histogram of the review counts\n",
    "sns.set_style('whitegrid')\n",
    "fig, ax = plt.subplots()\n",
    "biz_df['review_count'].hist(ax=ax, bins=100)\n",
    "ax.set_yscale('log')\n",
    "ax.tick_params(labelsize=10)\n",
    "ax.set_xlabel('Review Count', fontsize=14) \n",
    "ax.set_ylabel('Occurrence', fontsize=14)"
   ]
  },
  {
   "cell_type": "markdown",
   "metadata": {},
   "source": [
    "From the histogram, there are many bins that are empty (no data)"
   ]
  },
  {
   "cell_type": "code",
   "execution_count": 11,
   "metadata": {},
   "outputs": [
    {
     "data": {
      "text/plain": [
       "0.1     6.0\n",
       "0.2     7.0\n",
       "0.3     9.0\n",
       "0.4    11.0\n",
       "0.5    15.0\n",
       "0.6    20.0\n",
       "0.7    30.0\n",
       "0.8    48.0\n",
       "0.9    97.0\n",
       "Name: review_count, dtype: float64"
      ]
     },
     "execution_count": 11,
     "metadata": {},
     "output_type": "execute_result"
    }
   ],
   "source": [
    "# Divide into 10th, 20th, ..., 90th quantile (percentile)\n",
    "deciles = biz_df['review_count'].quantile([.1, .2, .3, .4, .5, .6, .7, .8, .9])\n",
    "deciles"
   ]
  },
  {
   "cell_type": "code",
   "execution_count": 12,
   "metadata": {},
   "outputs": [
    {
     "data": {
      "text/plain": [
       "Text(0, 0.5, 'Occurrence')"
      ]
     },
     "execution_count": 12,
     "metadata": {},
     "output_type": "execute_result"
    },
    {
     "data": {
      "image/png": "[encoded data removed]",
      "text/plain": [
       "<Figure size 640x480 with 1 Axes>"
      ]
     },
     "metadata": {},
     "output_type": "display_data"
    }
   ],
   "source": [
    "# Visualize the deciles on the histogram\n",
    "sns.set_style('whitegrid')\n",
    "fig, ax = plt.subplots()\n",
    "biz_df['review_count'].hist(ax=ax, bins=100)\n",
    "\n",
    "for pos in deciles:\n",
    "    handle = plt.axvline(pos, color='r')\n",
    "ax.legend([handle], ['deciles'], fontsize=14)\n",
    "ax.set_yscale('log')\n",
    "ax.set_xscale('log')\n",
    "ax.tick_params(labelsize=14)\n",
    "ax.set_xlabel('Review Count', fontsize=14)\n",
    "ax.set_ylabel('Occurrence', fontsize=14)"
   ]
  },
  {
   "cell_type": "markdown",
   "metadata": {},
   "source": [
    "The [`pandas.qcut`](https://pandas.pydata.org/pandas-docs/stable/reference/api/pandas.qcut.html) for mapping the value into quantiles. \n",
    "\n",
    "Quantile-based discretization function. Discretize variable into equal-sized buckets based on rank or based on sample quantiles. For example 1000 values for 10 quantiles would produce a Categorical object indicating quantile membership for each data point."
   ]
  },
  {
   "cell_type": "code",
   "execution_count": 21,
   "metadata": {},
   "outputs": [
    {
     "data": {
      "text/plain": [
       "0         1\n",
       "1         4\n",
       "2         6\n",
       "3         8\n",
       "4         4\n",
       "         ..\n",
       "150341    4\n",
       "150342    0\n",
       "150343    2\n",
       "150344    6\n",
       "150345    2\n",
       "Name: review_count, Length: 150346, dtype: int64"
      ]
     },
     "execution_count": 21,
     "metadata": {},
     "output_type": "execute_result"
    }
   ],
   "source": [
    "# Mapping the binning with 10th, 20th, ..., 90th quantile\n",
    "pd.qcut(biz_df['review_count'], 10, labels=False)"
   ]
  },
  {
   "cell_type": "code",
   "execution_count": 23,
   "metadata": {},
   "outputs": [
    {
     "data": {
      "text/plain": [
       "0         G2\n",
       "1         G5\n",
       "2         G7\n",
       "3         G9\n",
       "4         G5\n",
       "          ..\n",
       "150341    G5\n",
       "150342    G1\n",
       "150343    G3\n",
       "150344    G7\n",
       "150345    G3\n",
       "Name: review_count, Length: 150346, dtype: category\n",
       "Categories (10, object): ['G1' < 'G2' < 'G3' < 'G4' ... 'G7' < 'G8' < 'G9' < 'G10']"
      ]
     },
     "execution_count": 23,
     "metadata": {},
     "output_type": "execute_result"
    }
   ],
   "source": [
    "# Mapping the binning by putting labels\n",
    "pd.qcut(biz_df['review_count'], 10, labels=['G1','G2','G3','G4','G5','G6','G7','G8','G9','G10'])"
   ]
  },
  {
   "cell_type": "markdown",
   "metadata": {},
   "source": [
    "Please make sure that, in the `pandas.qcut(x, q, labels=None, retbins=False, precision=3, duplicates='raise')`\n",
    "q means the number of quantiles or llternately array of quantiles, e.g. [0, .25, .5, .75, 1.] for quartiles."
   ]
  },
  {
   "cell_type": "markdown",
   "metadata": {},
   "source": [
    "# EXERCISE\n",
    "\n",
    "Download the data of [FitBit Fitness Tracker Data](https://www.kaggle.com/datasets/nurudeenabdulsalaam/fitbit-fitness-tracker-data?select=dailyIntensities_merged.csv) (click to follow the link).    \n",
    "1. Read the data of 'dailyIntensities_merged'\n",
    "2. Check on 'SedentaryMinutes' and 'FairlyActiveMinutes' \n",
    "3. What binning do you suggest?"
   ]
  },
  {
   "cell_type": "code",
   "execution_count": null,
   "metadata": {},
   "outputs": [],
   "source": []
  }
 ],
 "metadata": {
  "kernelspec": {
   "display_name": "base",
   "language": "python",
   "name": "python3"
  },
  "language_info": {
   "codemirror_mode": {
    "name": "ipython",
    "version": 3
   },
   "file_extension": ".py",
   "mimetype": "text/x-python",
   "name": "python",
   "nbconvert_exporter": "python",
   "pygments_lexer": "ipython3",
   "version": "3.9.13"
  },
  "orig_nbformat": 4,
  "vscode": {
   "interpreter": {
    "hash": "a2a18ae88b7790549888b4865c2c28d5c23ce860666075774631babf8b6cb939"
   }
  }
 },
 "nbformat": 4,
 "nbformat_minor": 2
}
